{
  "nbformat": 4,
  "nbformat_minor": 0,
  "metadata": {
    "colab": {
      "name": "LinearRegression.ipynb",
      "provenance": [],
      "collapsed_sections": []
    },
    "kernelspec": {
      "name": "python3",
      "display_name": "Python 3"
    },
    "language_info": {
      "name": "python"
    }
  },
  "cells": [
    {
      "cell_type": "code",
      "source": [
        "import numpy as np"
      ],
      "metadata": {
        "id": "KeR3cwWGcaTf"
      },
      "execution_count": 1,
      "outputs": []
    },
    {
      "cell_type": "code",
      "execution_count": 2,
      "metadata": {
        "id": "hLxZERmWcCk6"
      },
      "outputs": [],
      "source": [
        "#Create Dataset\n",
        "x=[4,6,10,12,14,20] \n",
        "y=[3,5.5,6.5,9.0,12,20] "
      ]
    },
    {
      "cell_type": "code",
      "source": [
        "#Calculate X and Y mean\n",
        "x_mean=np.mean(x)\n",
        "y_mean=np.mean(y)"
      ],
      "metadata": {
        "id": "l_2H9C3ecPu1"
      },
      "execution_count": 3,
      "outputs": []
    },
    {
      "cell_type": "code",
      "source": [
        "print(\"Mean of X:\",x_mean)\n",
        "print(\"Mean of Y:\",y_mean)"
      ],
      "metadata": {
        "colab": {
          "base_uri": "https://localhost:8080/"
        },
        "id": "_84sxxYwcjew",
        "outputId": "08157f11-e177-4eaf-985d-0da68ccc79da"
      },
      "execution_count": 4,
      "outputs": [
        {
          "output_type": "stream",
          "name": "stdout",
          "text": [
            "Mean of X: 11.0\n",
            "Mean of Y: 9.333333333333334\n"
          ]
        }
      ]
    },
    {
      "cell_type": "code",
      "source": [
        "def get_sum(variables):\n",
        "  total=0\n",
        "  for variable in variables:\n",
        "    total+=variable\n",
        "  return total"
      ],
      "metadata": {
        "id": "a4mMLCfccq4k"
      },
      "execution_count": 5,
      "outputs": []
    },
    {
      "cell_type": "code",
      "source": [
        "x_sum=get_sum(x)\n",
        "y_sum=get_sum(y)"
      ],
      "metadata": {
        "id": "RpyNvdJYdSja"
      },
      "execution_count": 6,
      "outputs": []
    },
    {
      "cell_type": "code",
      "source": [
        "print(\"Summation of X\",x_sum)\n",
        "print(\"Summation of Y\",y_sum)"
      ],
      "metadata": {
        "colab": {
          "base_uri": "https://localhost:8080/"
        },
        "id": "-aGs83bjdWF1",
        "outputId": "7fd9bcf9-46df-4928-c1d9-235bbda6e7af"
      },
      "execution_count": 7,
      "outputs": [
        {
          "output_type": "stream",
          "name": "stdout",
          "text": [
            "Summation of X 66\n",
            "Summation of Y 56.0\n"
          ]
        }
      ]
    },
    {
      "cell_type": "code",
      "source": [
        "def get_sum_squares(variables):\n",
        "  total=0\n",
        "  for variable in variables:\n",
        "    total+=(variable*variable)\n",
        "  return total"
      ],
      "metadata": {
        "id": "ZGHtD9uOdgJE"
      },
      "execution_count": 8,
      "outputs": []
    },
    {
      "cell_type": "code",
      "source": [
        "x_sum_square=get_sum_squares(x)\n",
        "y_sum_square=get_sum_squares(y)"
      ],
      "metadata": {
        "id": "k17sM_pVdvYn"
      },
      "execution_count": 9,
      "outputs": []
    },
    {
      "cell_type": "code",
      "source": [
        "print(\"Square of Summation of X\",x_sum_square)\n",
        "print(\"Square of Summation of Y\",y_sum_square)"
      ],
      "metadata": {
        "colab": {
          "base_uri": "https://localhost:8080/"
        },
        "id": "dhgrx1YVdo4D",
        "outputId": "16cb3d80-42a5-4a09-b908-4128f6789b90"
      },
      "execution_count": 10,
      "outputs": [
        {
          "output_type": "stream",
          "name": "stdout",
          "text": [
            "Square of Summation of X 892\n",
            "Square of Summation of Y 706.5\n"
          ]
        }
      ]
    },
    {
      "cell_type": "code",
      "source": [
        "def get_xy(x,y):\n",
        "  total=0\n",
        "  for i,j in zip(x,y):\n",
        "    total+=(i*j)\n",
        "  return total\n"
      ],
      "metadata": {
        "id": "wm3P7Kojd2TB"
      },
      "execution_count": 11,
      "outputs": []
    },
    {
      "cell_type": "code",
      "source": [
        "xy=get_xy(x,y)"
      ],
      "metadata": {
        "id": "eUwM5lTreePH"
      },
      "execution_count": 12,
      "outputs": []
    },
    {
      "cell_type": "code",
      "source": [
        "print(\"sum of X and Y\",xy)"
      ],
      "metadata": {
        "colab": {
          "base_uri": "https://localhost:8080/"
        },
        "id": "m5F4b_jweVcX",
        "outputId": "795d98d4-5e70-40ed-cbf1-94a377a4e743"
      },
      "execution_count": 13,
      "outputs": [
        {
          "output_type": "stream",
          "name": "stdout",
          "text": [
            "sum of X and Y 786.0\n"
          ]
        }
      ]
    },
    {
      "cell_type": "code",
      "source": [
        "numerator=xy-((x_sum*y_sum)/len(x))"
      ],
      "metadata": {
        "id": "VwBVoVdIehlC"
      },
      "execution_count": 14,
      "outputs": []
    },
    {
      "cell_type": "code",
      "source": [
        "denominator=x_sum_square-((x_sum**2)/len(x))"
      ],
      "metadata": {
        "id": "2bAoMNYjfF9z"
      },
      "execution_count": 15,
      "outputs": []
    },
    {
      "cell_type": "code",
      "source": [
        "slope=numerator/denominator"
      ],
      "metadata": {
        "id": "QCsxisHUfPBh"
      },
      "execution_count": 16,
      "outputs": []
    },
    {
      "cell_type": "code",
      "source": [
        "print(\"Slope \",slope)"
      ],
      "metadata": {
        "colab": {
          "base_uri": "https://localhost:8080/"
        },
        "id": "y_NTSLVVfUPE",
        "outputId": "86acae7a-f01f-4db4-d23d-ecab0b758d4c"
      },
      "execution_count": 17,
      "outputs": [
        {
          "output_type": "stream",
          "name": "stdout",
          "text": [
            "Slope  1.0240963855421688\n"
          ]
        }
      ]
    },
    {
      "cell_type": "code",
      "source": [
        "y_intercept=y_mean-(slope*x_mean)"
      ],
      "metadata": {
        "id": "SkgGv203fgPR"
      },
      "execution_count": 18,
      "outputs": []
    },
    {
      "cell_type": "code",
      "source": [
        "print(\"Y-intercept\",y_intercept)"
      ],
      "metadata": {
        "colab": {
          "base_uri": "https://localhost:8080/"
        },
        "id": "e8fziLU3fpHT",
        "outputId": "4f6864bd-f0a8-4aa8-ac54-74e2a5395806"
      },
      "execution_count": null,
      "outputs": [
        {
          "output_type": "stream",
          "name": "stdout",
          "text": [
            "Y-intercept -1.931726907630523\n"
          ]
        }
      ]
    },
    {
      "cell_type": "code",
      "source": [
        "def predict_y(x,y_intercept,slope):\n",
        "  y_pred=[]\n",
        "  for value in x:\n",
        "    ans=y_intercept+(slope*value)\n",
        "    y_pred.append(round(ans,1))\n",
        "  return y_pred"
      ],
      "metadata": {
        "id": "KDBS8fJKfuUh"
      },
      "execution_count": 19,
      "outputs": []
    },
    {
      "cell_type": "code",
      "source": [
        "y_pred=predict_y(x,y_intercept,slope)"
      ],
      "metadata": {
        "id": "MkfF8FcVgSjg"
      },
      "execution_count": 20,
      "outputs": []
    },
    {
      "cell_type": "code",
      "source": [
        "print(\"Predicted values of Y\",y_pred)"
      ],
      "metadata": {
        "colab": {
          "base_uri": "https://localhost:8080/"
        },
        "id": "LNOpqqr2gaQp",
        "outputId": "4c01a82a-e917-4ff5-8a90-7d6dc8cdef2a"
      },
      "execution_count": 21,
      "outputs": [
        {
          "output_type": "stream",
          "name": "stdout",
          "text": [
            "Predicted values of Y [2.2, 4.2, 8.3, 10.4, 12.4, 18.6]\n"
          ]
        }
      ]
    },
    {
      "cell_type": "code",
      "source": [
        "import matplotlib.pyplot as plt\n",
        "\n",
        "plt.scatter(x,y)\n",
        "plt.plot(x,y_pred)\n",
        "plt.xlabel(\"X\")\n",
        "plt.ylabel(\"Y\")\n",
        "plt.title(\"Predicted Y vs Actual Y\")\n",
        "plt.show()"
      ],
      "metadata": {
        "colab": {
          "base_uri": "https://localhost:8080/",
          "height": 295
        },
        "id": "7-xdlWLZgdNK",
        "outputId": "a5707d0d-0abe-4575-9938-51b13707cc35"
      },
      "execution_count": 22,
      "outputs": [
        {
          "output_type": "display_data",
          "data": {
            "image/png": "[encoded data removed]",
            "text/plain": [
              "<Figure size 432x288 with 1 Axes>"
            ]
          },
          "metadata": {
            "needs_background": "light"
          }
        }
      ]
    },
    {
      "cell_type": "markdown",
      "source": [
        "summation of (y_actua-y_pred)**2"
      ],
      "metadata": {
        "id": "Myy4_QOjmDhN"
      }
    },
    {
      "cell_type": "code",
      "source": [
        "#mean squared error mechaninsm\n",
        "\n",
        "def mean_squared_error(y,y_pred):\n",
        "  error=0\n",
        "  y_error=[]\n",
        "  for i,j in zip(y,y_pred):\n",
        "    ans=(i-j)**2\n",
        "    y_error.append((i-j))\n",
        "    error+=ans\n",
        "  return round(error,1),y_error\n"
      ],
      "metadata": {
        "id": "9DUUOLZIg3cd"
      },
      "execution_count": 23,
      "outputs": []
    },
    {
      "cell_type": "code",
      "source": [
        "mse,y_error=mean_squared_error(y,y_pred)"
      ],
      "metadata": {
        "id": "plB2gE9hiPea"
      },
      "execution_count": 24,
      "outputs": []
    },
    {
      "cell_type": "code",
      "source": [
        "print(\"Calculated Mean Squared Error\",mse)"
      ],
      "metadata": {
        "colab": {
          "base_uri": "https://localhost:8080/"
        },
        "id": "uK0D27JViVQM",
        "outputId": "d015088d-7722-424c-9273-3605e0580d19"
      },
      "execution_count": null,
      "outputs": [
        {
          "output_type": "stream",
          "name": "stdout",
          "text": [
            "Calculated Mean Squared Error 9.6\n"
          ]
        }
      ]
    },
    {
      "cell_type": "code",
      "source": [
        "plt.scatter(x,y_error)\n",
        "plt.plot(x,[0 for i in range(len(x))])\n",
        "plt.xlabel(\"X\")\n",
        "plt.ylabel(\"Error\")\n",
        "plt.title(\"Residual Plot\")\n",
        "plt.show()"
      ],
      "metadata": {
        "colab": {
          "base_uri": "https://localhost:8080/",
          "height": 295
        },
        "id": "IJjusZmfi7Cw",
        "outputId": "b99c37e0-0e20-4cef-8cfa-a0203ace4fd5"
      },
      "execution_count": 25,
      "outputs": [
        {
          "output_type": "display_data",
          "data": {
            "image/png": "[encoded data removed]",
            "text/plain": [
              "<Figure size 432x288 with 1 Axes>"
            ]
          },
          "metadata": {
            "needs_background": "light"
          }
        }
      ]
    }
  ]
}
